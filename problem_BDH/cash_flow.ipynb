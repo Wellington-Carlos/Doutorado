{
 "cells": [
  {
   "cell_type": "code",
   "execution_count": null,
   "id": "c44e1268-e442-44fa-82b3-246df302ee58",
   "metadata": {},
   "outputs": [],
   "source": [
    "def cash_flow(trialno, N, frame, oil_price, VOC_price, fixed_cost, profit):    \n",
    "    \n",
    "    cash = np.zeros([trialno, N+1])\n",
    "    \n",
    "    for i in range(trialno):\n",
    "        \n",
    "        for j in range(1, N+1):\n",
    "            #cash_one_path = (Production level * Oil price) - (Production level * Variable op cost rate + Fixed cost)\n",
    "\n",
    "            cash[i ,j] = ((frame.iloc[1, j] * oil_price[i, j]) - (frame.iloc[1, j] * VOC_price[i, j] + fixed_cost)) * (1 - profit)\n",
    "\n",
    "    return cash"
   ]
  },
  {
   "cell_type": "code",
   "execution_count": null,
   "id": "77225c4b-4b51-4c55-85d7-348fd2e73a40",
   "metadata": {},
   "outputs": [],
   "source": [
    "import pandas as pd\n",
    "import numpy as np\n",
    "\n",
    "row_header1 = [\"Path \" + str(i) for i in range(1, trialno + 1)]\n",
    "print('CASH FLOW')\n",
    "\n",
    "df1 = pd.DataFrame(cash_flow(trialno, N, frame, oil_price, VOC_price, fixed_cost, profit), index=row_header1)\n",
    "#df = df.round(decimals=3)\n",
    "# Selecionar as primeiras e últimas 3 linhas\n",
    "df1_head = df1.head(3)\n",
    "df1_tail = df1.tail(3)\n",
    "\n",
    "# Criar uma linha de reticências do mesmo tamanho das colunas\n",
    "ellipsis_row = pd.DataFrame([['...' for _ in df1.columns]], columns=df1.columns)\n",
    "\n",
    "# Concatenar tudo\n",
    "df1_summary = pd.concat([df1_head, ellipsis_row, df1_tail])\n",
    "\n",
    "# Exibir\n",
    "print(df1_summary)"
   ]
  }
 ],
 "metadata": {
  "kernelspec": {
   "display_name": "Python 3 (ipykernel)",
   "language": "python",
   "name": "python3"
  },
  "language_info": {
   "codemirror_mode": {
    "name": "ipython",
    "version": 3
   },
   "file_extension": ".py",
   "mimetype": "text/x-python",
   "name": "python",
   "nbconvert_exporter": "python",
   "pygments_lexer": "ipython3",
   "version": "3.12.8"
  }
 },
 "nbformat": 4,
 "nbformat_minor": 5
}
