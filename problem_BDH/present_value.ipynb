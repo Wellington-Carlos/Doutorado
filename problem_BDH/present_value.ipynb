{
 "cells": [
  {
   "cell_type": "code",
   "execution_count": null,
   "id": "94398291-c6fe-480d-ab86-d5369561b1a8",
   "metadata": {},
   "outputs": [],
   "source": [
    "def present_value(df, taxa_desconto):\n",
    "    \"\"\"\n",
    "    Calcula o Valor Presente (VP) para cada linha de um DataFrame onde as colunas representam períodos.\n",
    "    \n",
    "    :param df: DataFrame contendo fluxos de caixa no tempo (linhas são cenários, colunas são períodos).\n",
    "    :param taxa_desconto: Taxa de desconto a ser aplicada.\n",
    "    :return: Uma série com o VP de cada linha.\n",
    "    \"\"\"\n",
    "    # Criando os fatores de desconto para cada período\n",
    "    num_periodos = df.shape[1]\n",
    "    fatores_desconto = 1 / (1 + taxa_desconto) ** np.arange(num_periodos)\n",
    "    \n",
    "    # Multiplica os fluxos de caixa pelos fatores de desconto e soma para obter o VP\n",
    "    valor_presente = df.values @ fatores_desconto\n",
    "    \n",
    "    return pd.Series(valor_presente, index=df.index)"
   ]
  },
  {
   "cell_type": "code",
   "execution_count": null,
   "id": "5c6b23a4-a153-4fe0-898c-63cc03286c22",
   "metadata": {},
   "outputs": [],
   "source": [
    "print(f'Value of the initial investment: ${init_invest:.1f}')\n",
    "print(f'PV of cash flows: ${np.mean(present_value(df1, dr)):.1f}')\n",
    "print(f'Value of the project without options (NPV): ${np.mean(present_value(df1, dr)) - init_invest:.1f}')"
   ]
  },
  {
   "cell_type": "code",
   "execution_count": null,
   "id": "fd0ca17b-1ba8-4c1e-bfbc-d563ff222ee0",
   "metadata": {},
   "outputs": [],
   "source": []
  }
 ],
 "metadata": {
  "kernelspec": {
   "display_name": "Python 3 (ipykernel)",
   "language": "python",
   "name": "python3"
  },
  "language_info": {
   "codemirror_mode": {
    "name": "ipython",
    "version": 3
   },
   "file_extension": ".py",
   "mimetype": "text/x-python",
   "name": "python",
   "nbconvert_exporter": "python",
   "pygments_lexer": "ipython3",
   "version": "3.12.8"
  }
 },
 "nbformat": 4,
 "nbformat_minor": 5
}
