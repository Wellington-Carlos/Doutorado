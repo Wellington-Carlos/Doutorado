{
 "cells": [
  {
   "cell_type": "code",
   "execution_count": null,
   "id": "b7cedc7a-7d52-40cd-be71-7a1ff393b6c5",
   "metadata": {},
   "outputs": [],
   "source": [
    "import matplotlib.pyplot as plt\n",
    "import matplotlib.gridspec as gridspec\n",
    "import pandas as pd\n",
    "\n",
    "# Dados (substitua 'frame' pelo seu DataFrame real)\n",
    "df = frame  # seu DataFrame\n",
    "\n",
    "# Parâmetro principal a ser plotado\n",
    "param_to_plot = \"Production level\"\n",
    "highlight_param1 = \"Production cost\"\n",
    "highlight_param2 = \"Profit sharing\"\n",
    "\n",
    "# Criar figura com GridSpec\n",
    "fig = plt.figure(figsize=(10, 4))  # Ajustei a largura para algo mais comum em artigos\n",
    "gs = gridspec.GridSpec(1, 1, figure=fig)  # 1 linha, 1 coluna\n",
    "\n",
    "# Subplot\n",
    "ax = fig.add_subplot(gs[0, 0])\n",
    "ax.plot(df.columns, df.loc[param_to_plot], marker='o', label=param_to_plot, lw=3, color=\"teal\")\n",
    "\n",
    "# Eixos e formatação\n",
    "ax.set_xlabel(\"Year\")\n",
    "ax.set_ylabel(\"Production rate (MMbbl)\")\n",
    "ax.grid(lw=0.1, color=\"0.94\")\n",
    "# ax.set_title(\"Oil production profile\")  # Descomente se quiser título\n",
    "\n",
    "# Salvar figura\n",
    "output_path = r\"C:\\Users\\calva\\OneDrive\\Documentos\\Doutorado\\paper_com_Bratvold\\sn-article-template\\prod_profile.eps\"\n",
    "plt.savefig(output_path, format='eps', dpi=300, bbox_inches='tight')\n",
    "\n",
    "# Mostrar a figura\n",
    "plt.show()\n",
    "plt.close()\n"
   ]
  }
 ],
 "metadata": {
  "kernelspec": {
   "display_name": "Python 3 (ipykernel)",
   "language": "python",
   "name": "python3"
  },
  "language_info": {
   "codemirror_mode": {
    "name": "ipython",
    "version": 3
   },
   "file_extension": ".py",
   "mimetype": "text/x-python",
   "name": "python",
   "nbconvert_exporter": "python",
   "pygments_lexer": "ipython3",
   "version": "3.12.8"
  }
 },
 "nbformat": 4,
 "nbformat_minor": 5
}
