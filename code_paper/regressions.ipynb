{
 "cells": [
  {
   "cell_type": "code",
   "execution_count": 12,
   "id": "a68be1af-d7c3-45ce-882f-ffccab8097ce",
   "metadata": {},
   "outputs": [],
   "source": [
    "import numpy as np\n",
    "import matplotlib.pyplot as plt\n",
    "import numpy.polynomial as poly\n",
    "from scipy.special import jacobi  # Importing Jacobi polynomials\n",
    "\n",
    "def polynomial_regressions(X, Y, degree, poly_type=\"poly\"):\n",
    "    \"\"\"\n",
    "    Fits a polynomial regression of different types to the given data.\n",
    "\n",
    "    Parameters:\n",
    "    X (list): List of independent variable values.\n",
    "    Y (list): List of dependent variable values.\n",
    "    degree (int): Degree of the polynomial.\n",
    "    poly_type (str): Type of polynomial ('poly', 'hermite', 'legendre', 'chebyshev', 'jacobi', 'laguerre').\n",
    "    plot (bool): If True, displays a regression plot.\n",
    "\n",
    "    Returns:\n",
    "    Polynomial object fitted to the data.\n",
    "    \"\"\"\n",
    "    # Convert lists to numpy arrays\n",
    "    X = np.array(X)\n",
    "    Y = np.array(Y)\n",
    "    \n",
    "    # Dictionary mapping polynomial types to numpy polynomial classes\n",
    "    poly_dict = {\n",
    "        \"poly\": np.polynomial.Polynomial,\n",
    "        \"hermite\": np.polynomial.hermite.Hermite,\n",
    "        \"legendre\": np.polynomial.legendre.Legendre,\n",
    "        \"chebyshev\": np.polynomial.chebyshev.Chebyshev,\n",
    "        \"laguerre\": np.polynomial.laguerre.Laguerre\n",
    "    }\n",
    "    \n",
    "    if poly_type == \"jacobi\":\n",
    "        # Use SciPy for Jacobi polynomials\n",
    "        coef = jacobi(degree, 0, 0).coeffs\n",
    "        fitted_poly = np.polynomial.Polynomial(coef[::-1])  # Convert to numpy Polynomial\n",
    "    elif poly_type in poly_dict:\n",
    "        PolyClass = poly_dict[poly_type]\n",
    "        fitted_poly = PolyClass.fit(X, Y, degree)\n",
    "    else:\n",
    "        raise ValueError(f\"Polynomial type '{poly_type}' not supported. Choose from {list(poly_dict.keys()) + ['jacobi']}.\")\n",
    "    \n",
    "    return fitted_poly"
   ]
  },
  {
   "cell_type": "code",
   "execution_count": null,
   "id": "f8ac0970-830c-4eb5-9d01-9ed1bcd101d1",
   "metadata": {},
   "outputs": [],
   "source": []
  }
 ],
 "metadata": {
  "kernelspec": {
   "display_name": "Python 3 (ipykernel)",
   "language": "python",
   "name": "python3"
  },
  "language_info": {
   "codemirror_mode": {
    "name": "ipython",
    "version": 3
   },
   "file_extension": ".py",
   "mimetype": "text/x-python",
   "name": "python",
   "nbconvert_exporter": "python",
   "pygments_lexer": "ipython3",
   "version": "3.12.8"
  }
 },
 "nbformat": 4,
 "nbformat_minor": 5
}
