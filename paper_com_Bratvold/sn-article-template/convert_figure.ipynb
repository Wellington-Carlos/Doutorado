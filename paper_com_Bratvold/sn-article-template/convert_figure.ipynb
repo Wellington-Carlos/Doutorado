{
 "cells": [
  {
   "cell_type": "code",
   "execution_count": 1,
   "id": "1384eb81-bcf6-4b0c-9ed2-3d4498fff12b",
   "metadata": {},
   "outputs": [],
   "source": [
    "from PIL import Image\n",
    "\n",
    "# Carrega a imagem PNG (ou outro formato)\n",
    "img = Image.open(\"valuation.png\")\n",
    "# Converte para RGB (EPS não suporta transparência)\n",
    "img = img.convert(\"RGB\")\n",
    "# Salva como EPS\n",
    "img.save(\"valuation.eps\", format='EPS')\n",
    "\n",
    "\n",
    "img = Image.open(\"schematic_MCS.png\")\n",
    "img = img.convert(\"RGB\")\n",
    "img.save(\"schematic_MCS.eps\", format='EPS')\n",
    "\n",
    "img = Image.open(\"pdf_cdf.png\")\n",
    "img = img.convert(\"RGB\")\n",
    "img.save(\"pdf_cdf.eps\", format='EPS')"
   ]
  },
  {
   "cell_type": "code",
   "execution_count": null,
   "id": "989d4fa4-517f-4416-ba82-60af49459977",
   "metadata": {},
   "outputs": [],
   "source": []
  }
 ],
 "metadata": {
  "kernelspec": {
   "display_name": "Python 3 (ipykernel)",
   "language": "python",
   "name": "python3"
  },
  "language_info": {
   "codemirror_mode": {
    "name": "ipython",
    "version": 3
   },
   "file_extension": ".py",
   "mimetype": "text/x-python",
   "name": "python",
   "nbconvert_exporter": "python",
   "pygments_lexer": "ipython3",
   "version": "3.12.8"
  }
 },
 "nbformat": 4,
 "nbformat_minor": 5
}
